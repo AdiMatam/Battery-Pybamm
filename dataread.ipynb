{
 "cells": [
  {
   "cell_type": "code",
   "execution_count": 6,
   "metadata": {},
   "outputs": [],
   "source": [
    "import pandas as pd \n",
    "from matplotlib import pyplot as plt\n",
    "import numpy as np\n",
    "import pickle\n",
    "from constant_parameter import ConstantParameter"
   ]
  },
  {
   "cell_type": "code",
   "execution_count": 7,
   "metadata": {},
   "outputs": [
    {
     "name": "stdout",
     "output_type": "stream",
     "text": [
      "Detailing epxeriment: 2by2_3cycles_control\n",
      "2s-2p Configuration\n",
      "3 Cycles, CC-discharge, CC-charge, CV-charge protocol\n",
      "Applied current (CC phases): 27.263836618115\n",
      "Voltage cutoffs: (2.0, 4.1)\n",
      "Min current cutoff (CV-phase): 2.7263836618115\n"
     ]
    }
   ],
   "source": [
    "### LOAD THE EXPERIMENT\n",
    "experiment = \"2by2_3cycles_control\"\n",
    "path_exp = f\"data/{experiment}\"\n",
    "\n",
    "#----\n",
    "pack = None\n",
    "with open(path_exp+\".pkl\", 'rb') as f:\n",
    "    pack = pickle.load(f)\n",
    "\n",
    "print(f\"Detailing epxeriment: {experiment}\")\n",
    "print(f\"{pack.series}s-{pack.parallel}p Configuration\") \n",
    "print(f\"{pack.cycles} Cycles, CC-discharge, CC-charge, CV-charge protocol\") \n",
    "print(f\"Applied current (CC phases): {pack.iappt}\")\n",
    "print(f\"Voltage cutoffs: {pack.cutoffs}\")\n",
    "print(f\"Min current cutoff (CV-phase): {pack.min_current}\")"
   ]
  },
  {
   "cell_type": "code",
   "execution_count": 8,
   "metadata": {},
   "outputs": [],
   "source": [
    "data = pd.read_csv(path_exp+\".csv\", index_col=[0,1,2])"
   ]
  },
  {
   "cell_type": "code",
   "execution_count": 9,
   "metadata": {},
   "outputs": [
    {
     "data": {
      "text/plain": [
       "0.385"
      ]
     },
     "execution_count": 9,
     "metadata": {},
     "output_type": "execute_result"
    }
   ],
   "source": [
    "CYCLE = data.index.get_level_values(0)\n",
    "PROTOCOL = data.index.get_level_values(1)\n",
    "\n",
    "group = data.loc[\n",
    "    (CYCLE.isin([1, 3])) & \n",
    "    (PROTOCOL.str.contains(\"-charge\"))\n",
    "]\n",
    "\n",
    "c = pack.cells[0,0]\n",
    "\n",
    "c.pos.eps_n.value\n"
   ]
  },
  {
   "cell_type": "code",
   "execution_count": 10,
   "metadata": {},
   "outputs": [
    {
     "data": {
      "text/plain": [
       "1  CC-charge  0     2.666591\n",
       "              1     3.551922\n",
       "              2     3.668178\n",
       "              3     3.716866\n",
       "              4     3.748116\n",
       "                      ...   \n",
       "3  CV-charge  52    4.100000\n",
       "              53    4.100000\n",
       "              54    4.100000\n",
       "              55    4.100000\n",
       "              56    4.100000\n",
       "Name: Cell 1,1 Voltage, Length: 238, dtype: float64"
      ]
     },
     "execution_count": 10,
     "metadata": {},
     "output_type": "execute_result"
    }
   ],
   "source": [
    "group[c.voltage.name]"
   ]
  }
 ],
 "metadata": {
  "kernelspec": {
   "display_name": "Python 3",
   "language": "python",
   "name": "python3"
  },
  "language_info": {
   "codemirror_mode": {
    "name": "ipython",
    "version": 3
   },
   "file_extension": ".py",
   "mimetype": "text/x-python",
   "name": "python",
   "nbconvert_exporter": "python",
   "pygments_lexer": "ipython3",
   "version": "3.10.4"
  }
 },
 "nbformat": 4,
 "nbformat_minor": 2
}
